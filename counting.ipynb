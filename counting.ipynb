{
 "cells": [
  {
   "cell_type": "code",
   "execution_count": 9,
   "metadata": {},
   "outputs": [
    {
     "name": "stdout",
     "output_type": "stream",
     "text": [
      "[[[-1 -1 -1 -1 -1 -1]\n",
      "  [-1 -1 -1 -1 -1 -1]\n",
      "  [-1 -1 -1 -1 -1 -1]]\n",
      "\n",
      " [[-1 -1 -1 -1 -1 -1]\n",
      "  [-1 -1 -1 -1 -1 -1]\n",
      "  [-1 -1 -1 -1 -1  1]]\n",
      "\n",
      " [[-1 -1 -1 -1 -1 -1]\n",
      "  [-1 -1 -1 -1 -1 -1]\n",
      "  [-1 -1 -1 -1  1 -1]]\n",
      "\n",
      " ...\n",
      "\n",
      " [[ 1  1  1  1  1  1]\n",
      "  [ 1  1  1  1  1  1]\n",
      "  [ 1  1  1  1 -1  1]]\n",
      "\n",
      " [[ 1  1  1  1  1  1]\n",
      "  [ 1  1  1  1  1  1]\n",
      "  [ 1  1  1  1  1 -1]]\n",
      "\n",
      " [[ 1  1  1  1  1  1]\n",
      "  [ 1  1  1  1  1  1]\n",
      "  [ 1  1  1  1  1  1]]]\n",
      "262144\n"
     ]
    }
   ],
   "source": [
    "a = sample_matrices(6)\n",
    "print(a)\n",
    "print(len(a))\n"
   ]
  },
  {
   "cell_type": "code",
   "execution_count": 82,
   "metadata": {},
   "outputs": [],
   "source": [
    "import numpy as np\n",
    "import matplotlib.pyplot as plt\n",
    "from math import log2\n",
    "from itertools import product\n",
    "import time\n",
    "plt.rc('text', usetex=False)\n",
    "\n",
    "def total_matrices(d):\n",
    "    \"\"\"Generate all matrices A from {+-1}^{d/2 x d}. -- not tractable for large d\"\"\"\n",
    "    rows = d // 2\n",
    "    return np.array(list(product([-1, 1], repeat=rows * d))).reshape(-1, rows, d)\n",
    "\n",
    "def sample_matrices(d):\n",
    "    \"\"\"Generate O(log d) matrices A from {+-1}^{d/2 x d}.\"\"\"\n",
    "    def sample_matrix(d):\n",
    "        rows = d // 2 \n",
    "        matrix = np.random.choice([-1, 1], size=(rows, d))\n",
    "        return matrix\n",
    "    \n",
    "    samples = [sample_matrix(d) for i in range(int(10 * d**2))]\n",
    "    return np.array(samples)\n",
    "\n",
    "def random_convex_combination(A):\n",
    "    \"\"\"Choose a random vector in the convex combination of the rows of A.\"\"\"\n",
    "    rows = A.shape[0]\n",
    "    weights = np.random.dirichlet(np.ones(rows))\n",
    "    return np.dot(weights, A)\n",
    "\n",
    "def gaussian_random_convex_combination(A):\n",
    "    \"\"\"Spherical random vector\"\"\"\n",
    "    rows = A.shape[0]\n",
    "    vector = np.random.normal(size=rows)\n",
    "    vector /= np.linalg.norm(vector, ord=2)\n",
    "    return np.dot(vector, A)\n",
    "\n",
    "def random_row(A):\n",
    "    rows = A.shape[0]\n",
    "    ind = np.zeros(rows)\n",
    "    ind[np.random.randint(rows)] = 1\n",
    "    return np.dot(ind, A)\n",
    "\n",
    "def count_matrices_containing_vector(matrices, target_vector):\n",
    "    \"\"\"Count the number of matrices A whose span contains the target vector.\"\"\"\n",
    "    count = 0\n",
    "    \n",
    "    for A in matrices:\n",
    "        combined_matrix = np.vstack([A, np.expand_dims(target_vector, axis=0)])\n",
    "        r1 = np.linalg.matrix_rank(A)\n",
    "        r2 = np.linalg.matrix_rank(combined_matrix)\n",
    "        if r1 == r2:\n",
    "            count += 1\n",
    "            \n",
    "    return count"
   ]
  },
  {
   "cell_type": "code",
   "execution_count": 97,
   "metadata": {},
   "outputs": [
    {
     "name": "stdout",
     "output_type": "stream",
     "text": [
      "Dimension 2 : 0.5\n",
      "Dimension 3 : 0.25\n",
      "Dimension 4 : 0.03125\n",
      "Dimension 5 : 0.0078125\n",
      "Dimension 6 : 0.0003662109375\n"
     ]
    }
   ],
   "source": [
    "def results(dimensions):\n",
    "    '''Count the number of matrices containing the target vector for each dimension.'''\n",
    "    num_trials = 3\n",
    "\n",
    "    row_counts = []\n",
    "    conv_counts = []\n",
    "    stds = []\n",
    "\n",
    "    for d in dimensions:\n",
    "        S = sample_matrices(d) # total_matrices\n",
    "\n",
    "        row_curr = []\n",
    "        conv_curr = []\n",
    "        for i in range(num_trials):\n",
    "            A = S[np.random.randint(S.shape[0])]\n",
    "\n",
    "            c = gaussian_random_convex_combination(A) # added the gaussian_ tag\n",
    "            conv_curr.append(count_matrices_containing_vector(S, c))\n",
    "\n",
    "            r = random_row(A)\n",
    "            row_curr.append(count_matrices_containing_vector(S, r))\n",
    "\n",
    "        conv_counts.append(conv_curr)\n",
    "        row_counts.append(row_curr)\n",
    "\n",
    "        print(f\"Dimension {d} : {np.mean(conv_counts[-1]) / 2**(d * (d // 2))}\")\n",
    "\n",
    "    return row_counts, conv_counts\n",
    "\n",
    "# Example usage\n",
    "dimensions = [i for i in range(2, 7)]\n",
    "row_counts, conv_counts = results(dimensions)"
   ]
  },
  {
   "cell_type": "code",
   "execution_count": null,
   "metadata": {},
   "outputs": [],
   "source": [
    "\n",
    "def plot_count_scale(dimensions, row_counts, conv_counts):\n",
    "    # normalize counts -- for total_matrices\n",
    "    # normalized_row_counts = [\n",
    "    #     [c / 2**(d * (d // 2)) for c in cnt] \\\n",
    "    #         for d, cnt in zip(dimensions, row_counts)\n",
    "    # ]\n",
    "    # normalized_conv_counts = [\n",
    "    #     [c / 2**(d * (d // 2)) for c in cnt] \\\n",
    "    #         for d, cnt in zip(dimensions, conv_counts)\n",
    "    # ]\n",
    "\n",
    "    # normalize counts -- for sample_matrices \n",
    "    normalized_row_counts = [\n",
    "        [c / (int(10 * d**2)) for c in cnt] \\\n",
    "            for d, cnt in zip(dimensions, row_counts)\n",
    "    ]\n",
    "    normalized_conv_counts = [\n",
    "        [c / int((10 * d**2)) for c in cnt] \\\n",
    "            for d, cnt in zip(dimensions, conv_counts)\n",
    "    ]\n",
    "\n",
    "    mean_row_counts = [log2(np.mean(cnt)) for cnt in normalized_row_counts]\n",
    "    # std_row_counts = [np.std(cnt) for cnt in normalized_row_counts]\n",
    "    mean_conv_counts = [log2(np.mean(cnt)) for cnt in normalized_conv_counts]\n",
    "    # std_conv_counts = [np.mean(cnt) for cnt in normalized_conv_counts]\n",
    "    \n",
    "    # labels\n",
    "    plt.xlabel('Dimension')\n",
    "    plt.ylabel(r'$\\log(\\# / 2^{d(d/2)})$')\n",
    "    plt.title(r'Fraction of matrices with $g$ in span')\n",
    "\n",
    "    # plot showing how fraction decreases\n",
    "    plt.errorbar(dimensions, mean_row_counts, fmt='o', color='black')\n",
    "    plt.errorbar(dimensions, mean_conv_counts, fmt='^', color='red')\n",
    "    # plt.errorbar(dimensions, mean_row_counts, yerr=std_row_counts, fmt='o', color='black')\n",
    "    # plt.errorbar(dimensions, mean_conv_counts, yerr=std_conv_counts, fmt='^', color='red')\n",
    "\n",
    "    # plot results\n",
    "    plt.show()"
   ]
  },
  {
   "cell_type": "code",
   "execution_count": 98,
   "metadata": {},
   "outputs": [
    {
     "data": {
      "image/png": "[encoded data removed]",
      "text/plain": [
       "<Figure size 640x480 with 1 Axes>"
      ]
     },
     "metadata": {},
     "output_type": "display_data"
    }
   ],
   "source": [
    "plot_count_scale(dimensions, row_counts, conv_counts)"
   ]
  },
  {
   "cell_type": "code",
   "execution_count": null,
   "metadata": {},
   "outputs": [],
   "source": []
  }
 ],
 "metadata": {
  "kernelspec": {
   "display_name": "multicalibration",
   "language": "python",
   "name": "python3"
  },
  "language_info": {
   "codemirror_mode": {
    "name": "ipython",
    "version": 3
   },
   "file_extension": ".py",
   "mimetype": "text/x-python",
   "name": "python",
   "nbconvert_exporter": "python",
   "pygments_lexer": "ipython3",
   "version": "3.11.7"
  }
 },
 "nbformat": 4,
 "nbformat_minor": 2
}
